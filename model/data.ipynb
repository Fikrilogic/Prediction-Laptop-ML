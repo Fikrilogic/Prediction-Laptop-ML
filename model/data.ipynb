{
 "cells": [
  {
   "cell_type": "code",
   "execution_count": 4,
   "metadata": {
    "collapsed": true,
    "pycharm": {
     "name": "#%%\n"
    }
   },
   "outputs": [],
   "source": [
    "import pandas as pd\n",
    "import numpy as np\n",
    "# data = pd.read_excel('dataset_laptop.xlsx')"
   ]
  },
  {
   "cell_type": "code",
   "execution_count": 37,
   "outputs": [
    {
     "data": {
      "text/plain": "   budget cpu gpu_merk          gpu  ram memory_type company  \\\n0  sedang  i3    intel  hd graphics    4         ssd      hp   \n1  sedang  i3    intel  hd graphics    8         ssd  lenovo   \n2  tinggi  i7      amd       radeon   16   ssd + hdd    dell   \n3  sedang  i3      amd     radeon r    4         ssd    dell   \n4  tinggi  i7    intel  hd graphics    8         ssd    asus   \n\n         screen_type screen_resolution  weight type_laptop kebutuhan  \n0            full hd         1920x1080    1.91    notebook    office  \n1  ips panel full hd         1920x1080    1.70    notebook    office  \n2  ips panel full hd         1920x1080    2.80    notebook    gaming  \n3            full hd         1920x1080    2.20    notebook    office  \n4            full hd         1920x1080    1.25   ultrabook    office  ",
      "text/html": "<div>\n<style scoped>\n    .dataframe tbody tr th:only-of-type {\n        vertical-align: middle;\n    }\n\n    .dataframe tbody tr th {\n        vertical-align: top;\n    }\n\n    .dataframe thead th {\n        text-align: right;\n    }\n</style>\n<table border=\"1\" class=\"dataframe\">\n  <thead>\n    <tr style=\"text-align: right;\">\n      <th></th>\n      <th>budget</th>\n      <th>cpu</th>\n      <th>gpu_merk</th>\n      <th>gpu</th>\n      <th>ram</th>\n      <th>memory_type</th>\n      <th>company</th>\n      <th>screen_type</th>\n      <th>screen_resolution</th>\n      <th>weight</th>\n      <th>type_laptop</th>\n      <th>kebutuhan</th>\n    </tr>\n  </thead>\n  <tbody>\n    <tr>\n      <th>0</th>\n      <td>sedang</td>\n      <td>i3</td>\n      <td>intel</td>\n      <td>hd graphics</td>\n      <td>4</td>\n      <td>ssd</td>\n      <td>hp</td>\n      <td>full hd</td>\n      <td>1920x1080</td>\n      <td>1.91</td>\n      <td>notebook</td>\n      <td>office</td>\n    </tr>\n    <tr>\n      <th>1</th>\n      <td>sedang</td>\n      <td>i3</td>\n      <td>intel</td>\n      <td>hd graphics</td>\n      <td>8</td>\n      <td>ssd</td>\n      <td>lenovo</td>\n      <td>ips panel full hd</td>\n      <td>1920x1080</td>\n      <td>1.70</td>\n      <td>notebook</td>\n      <td>office</td>\n    </tr>\n    <tr>\n      <th>2</th>\n      <td>tinggi</td>\n      <td>i7</td>\n      <td>amd</td>\n      <td>radeon</td>\n      <td>16</td>\n      <td>ssd + hdd</td>\n      <td>dell</td>\n      <td>ips panel full hd</td>\n      <td>1920x1080</td>\n      <td>2.80</td>\n      <td>notebook</td>\n      <td>gaming</td>\n    </tr>\n    <tr>\n      <th>3</th>\n      <td>sedang</td>\n      <td>i3</td>\n      <td>amd</td>\n      <td>radeon r</td>\n      <td>4</td>\n      <td>ssd</td>\n      <td>dell</td>\n      <td>full hd</td>\n      <td>1920x1080</td>\n      <td>2.20</td>\n      <td>notebook</td>\n      <td>office</td>\n    </tr>\n    <tr>\n      <th>4</th>\n      <td>tinggi</td>\n      <td>i7</td>\n      <td>intel</td>\n      <td>hd graphics</td>\n      <td>8</td>\n      <td>ssd</td>\n      <td>asus</td>\n      <td>full hd</td>\n      <td>1920x1080</td>\n      <td>1.25</td>\n      <td>ultrabook</td>\n      <td>office</td>\n    </tr>\n  </tbody>\n</table>\n</div>"
     },
     "execution_count": 37,
     "metadata": {},
     "output_type": "execute_result"
    }
   ],
   "source": [
    "data.head()"
   ],
   "metadata": {
    "collapsed": false,
    "pycharm": {
     "name": "#%%\n"
    }
   }
  },
  {
   "cell_type": "code",
   "execution_count": 31,
   "outputs": [],
   "source": [
    "for col in data.columns:\n",
    "    if data[col].dtypes == 'object':\n",
    "        data[col] = data[col].str.lower()"
   ],
   "metadata": {
    "collapsed": false,
    "pycharm": {
     "name": "#%%\n"
    }
   }
  },
  {
   "cell_type": "code",
   "execution_count": 51,
   "outputs": [
    {
     "name": "stdout",
     "output_type": "stream",
     "text": [
      "['hd graphics' 'radeon 5xx' 'radeon r' 'iris plus graphic' 'uhd graphic'\n",
      " 'radeon rx' 'geforce gtx' 'geforce' 'radeon pro']\n"
     ]
    }
   ],
   "source": [
    "# print(data['kebutuhan'].dtypes)\n",
    "print(data['gpu'].unique())"
   ],
   "metadata": {
    "collapsed": false,
    "pycharm": {
     "name": "#%%\n"
    }
   }
  },
  {
   "cell_type": "code",
   "execution_count": 45,
   "outputs": [
    {
     "name": "stderr",
     "output_type": "stream",
     "text": [
      "C:\\Users\\bs129\\AppData\\Local\\Temp/ipykernel_17576/594284764.py:5: SettingWithCopyWarning: \n",
      "A value is trying to be set on a copy of a slice from a DataFrame\n",
      "\n",
      "See the caveats in the documentation: https://pandas.pydata.org/pandas-docs/stable/user_guide/indexing.html#returning-a-view-versus-a-copy\n",
      "  data['gpu'][i] = 'radeon 5xx'\n",
      "C:\\Users\\bs129\\AppData\\Local\\Temp/ipykernel_17576/594284764.py:3: SettingWithCopyWarning: \n",
      "A value is trying to be set on a copy of a slice from a DataFrame\n",
      "\n",
      "See the caveats in the documentation: https://pandas.pydata.org/pandas-docs/stable/user_guide/indexing.html#returning-a-view-versus-a-copy\n",
      "  data['gpu'][i] = 'radeon pro'\n"
     ]
    }
   ],
   "source": [
    "for i in range(len(data)):\n",
    "    if data['gpu'][i] == 'radeon pro 555':\n",
    "        data['gpu'][i] = 'radeon pro'\n",
    "    if data['gpu'][i] == 'radeon':\n",
    "        data['gpu'][i] = 'radeon 5xx'"
   ],
   "metadata": {
    "collapsed": false,
    "pycharm": {
     "name": "#%%\n"
    }
   }
  },
  {
   "cell_type": "code",
   "execution_count": 47,
   "outputs": [],
   "source": [
    "data.to_excel('dataset_laptop.xlsx', index=False)\n"
   ],
   "metadata": {
    "collapsed": false,
    "pycharm": {
     "name": "#%%\n"
    }
   }
  },
  {
   "cell_type": "code",
   "execution_count": 3,
   "outputs": [],
   "source": [
    "from sklearn.pipeline import Pipeline\n",
    "from sklearn.compose import ColumnTransformer\n",
    "from sklearn.naive_bayes import GaussianNB\n",
    "from sklearn.tree import DecisionTreeClassifier\n",
    "from sklearn.neighbors import KNeighborsClassifier\n",
    "from sklearn.ensemble import GradientBoostingClassifier\n",
    "from sklearn.preprocessing import OneHotEncoder"
   ],
   "metadata": {
    "collapsed": false,
    "pycharm": {
     "name": "#%%\n"
    }
   }
  },
  {
   "cell_type": "code",
   "execution_count": 56,
   "outputs": [],
   "source": [
    "column_trans = ColumnTransformer(remainder=\"passthrough\", transformers=[('onehot',OneHotEncoder(), [0,1,2,3,5,6,7,8,10])], sparse_threshold=0\n",
    ")"
   ],
   "metadata": {
    "collapsed": false,
    "pycharm": {
     "name": "#%%\n"
    }
   }
  },
  {
   "cell_type": "code",
   "execution_count": 57,
   "outputs": [],
   "source": [
    "NB = GaussianNB()\n",
    "nb_model_pipelines = Pipeline(steps=[\n",
    "                       ('preprocessing', column_trans),\n",
    "                       ('naive_bayes_model', NB)\n",
    "                       ])\n",
    "dt = DecisionTreeClassifier(criterion='entropy', random_state=24, max_depth=8, max_leaf_nodes=8)\n",
    "\n",
    "dt_pipe = Pipeline(steps=[('preprocessing', column_trans),\n",
    "                       ('dt_model', dt)\n",
    "                       ])\n",
    "\n",
    "knn = KNeighborsClassifier(n_neighbors=3, weights='distance', algorithm='kd_tree')\n",
    "\n",
    "knn_pipeline = Pipeline(steps=[('preprocessing', column_trans),\n",
    "                       ('knn', knn)\n",
    "                       ])\n",
    "GB = GradientBoostingClassifier(loss='exponential',criterion='friedman_mse', learning_rate=0.05, min_samples_leaf=8, random_state=10)\n",
    "gb_pipeline = Pipeline(steps=[('preprocessing', column_trans),\n",
    "                       ('gbdt', GB)\n",
    "                       ])"
   ],
   "metadata": {
    "collapsed": false,
    "pycharm": {
     "name": "#%%\n"
    }
   }
  },
  {
   "cell_type": "code",
   "execution_count": 18,
   "outputs": [],
   "source": [
    "df = pd.read_excel('dataset_kebutuhan_laptop_example.xlsx')"
   ],
   "metadata": {
    "collapsed": false,
    "pycharm": {
     "name": "#%%\n"
    }
   }
  },
  {
   "cell_type": "code",
   "execution_count": 19,
   "outputs": [],
   "source": [
    "df = df.drop_duplicates()"
   ],
   "metadata": {
    "collapsed": false,
    "pycharm": {
     "name": "#%%\n"
    }
   }
  },
  {
   "cell_type": "code",
   "execution_count": 21,
   "outputs": [
    {
     "data": {
      "text/plain": "   budget cpu gpu_merk           gpu  ram memory_type company  \\\n0  sedang  i5    Intel  UHD Graphics    8         SSD    Acer   \n1  sedang  i3    Intel   HD Graphics    4         SSD      HP   \n2  sedang  i3    Intel   HD Graphics    8         SSD  Lenovo   \n3  tinggi  i7      AMD    Radeon 5xx   16   SSD + HDD    Dell   \n4  sedang  i3      AMD      Radeon R    4         SSD    Dell   \n\n         screen_type screen_resolution(pixel)  weights type_laptop  \\\n0  IPS Panel Full HD                1920x1080     1.60   ultrabook   \n1            Full HD                1920x1080     1.91    notebook   \n2  IPS Panel Full HD                1920x1080     1.70    notebook   \n3  IPS Panel Full HD                1920x1080     2.80    notebook   \n4            Full HD                1920x1080     2.20    notebook   \n\n  kebutuhan(target)  \n0            Office  \n1            Office  \n2            Office  \n3            Gaming  \n4            Office  ",
      "text/html": "<div>\n<style scoped>\n    .dataframe tbody tr th:only-of-type {\n        vertical-align: middle;\n    }\n\n    .dataframe tbody tr th {\n        vertical-align: top;\n    }\n\n    .dataframe thead th {\n        text-align: right;\n    }\n</style>\n<table border=\"1\" class=\"dataframe\">\n  <thead>\n    <tr style=\"text-align: right;\">\n      <th></th>\n      <th>budget</th>\n      <th>cpu</th>\n      <th>gpu_merk</th>\n      <th>gpu</th>\n      <th>ram</th>\n      <th>memory_type</th>\n      <th>company</th>\n      <th>screen_type</th>\n      <th>screen_resolution(pixel)</th>\n      <th>weights</th>\n      <th>type_laptop</th>\n      <th>kebutuhan(target)</th>\n    </tr>\n  </thead>\n  <tbody>\n    <tr>\n      <th>0</th>\n      <td>sedang</td>\n      <td>i5</td>\n      <td>Intel</td>\n      <td>UHD Graphics</td>\n      <td>8</td>\n      <td>SSD</td>\n      <td>Acer</td>\n      <td>IPS Panel Full HD</td>\n      <td>1920x1080</td>\n      <td>1.60</td>\n      <td>ultrabook</td>\n      <td>Office</td>\n    </tr>\n    <tr>\n      <th>1</th>\n      <td>sedang</td>\n      <td>i3</td>\n      <td>Intel</td>\n      <td>HD Graphics</td>\n      <td>4</td>\n      <td>SSD</td>\n      <td>HP</td>\n      <td>Full HD</td>\n      <td>1920x1080</td>\n      <td>1.91</td>\n      <td>notebook</td>\n      <td>Office</td>\n    </tr>\n    <tr>\n      <th>2</th>\n      <td>sedang</td>\n      <td>i3</td>\n      <td>Intel</td>\n      <td>HD Graphics</td>\n      <td>8</td>\n      <td>SSD</td>\n      <td>Lenovo</td>\n      <td>IPS Panel Full HD</td>\n      <td>1920x1080</td>\n      <td>1.70</td>\n      <td>notebook</td>\n      <td>Office</td>\n    </tr>\n    <tr>\n      <th>3</th>\n      <td>tinggi</td>\n      <td>i7</td>\n      <td>AMD</td>\n      <td>Radeon 5xx</td>\n      <td>16</td>\n      <td>SSD + HDD</td>\n      <td>Dell</td>\n      <td>IPS Panel Full HD</td>\n      <td>1920x1080</td>\n      <td>2.80</td>\n      <td>notebook</td>\n      <td>Gaming</td>\n    </tr>\n    <tr>\n      <th>4</th>\n      <td>sedang</td>\n      <td>i3</td>\n      <td>AMD</td>\n      <td>Radeon R</td>\n      <td>4</td>\n      <td>SSD</td>\n      <td>Dell</td>\n      <td>Full HD</td>\n      <td>1920x1080</td>\n      <td>2.20</td>\n      <td>notebook</td>\n      <td>Office</td>\n    </tr>\n  </tbody>\n</table>\n</div>"
     },
     "execution_count": 21,
     "metadata": {},
     "output_type": "execute_result"
    }
   ],
   "source": [
    "df.drop('Unnamed: 0', inplace=True, axis='columns')\n",
    "df.head()"
   ],
   "metadata": {
    "collapsed": false,
    "pycharm": {
     "name": "#%%\n"
    }
   }
  },
  {
   "cell_type": "code",
   "execution_count": 22,
   "outputs": [],
   "source": [
    "from sklearn.preprocessing import LabelEncoder"
   ],
   "metadata": {
    "collapsed": false,
    "pycharm": {
     "name": "#%%\n"
    }
   }
  },
  {
   "cell_type": "code",
   "execution_count": 26,
   "outputs": [],
   "source": [
    "encode = LabelEncoder()\n",
    "target = df['kebutuhan(target)']\n",
    "data = df.drop('kebutuhan(target)', axis='columns')\n",
    "\n",
    "for col in data.columns:\n",
    "    if df[col].dtypes == 'object':\n",
    "        df[col] = encode.fit_transform(df[col])"
   ],
   "metadata": {
    "collapsed": false,
    "pycharm": {
     "name": "#%%\n"
    }
   }
  },
  {
   "cell_type": "code",
   "execution_count": 27,
   "outputs": [
    {
     "data": {
      "text/plain": "   budget  cpu  gpu_merk  gpu  ram  memory_type  company  screen_type  \\\n0       0    2         1   13    8            3        0            2   \n1       0    1         1    2    4            3        4            0   \n2       0    1         1    2    8            3        5            2   \n3       1    3         0    7   16            4        3            2   \n4       0    1         0   10    4            3        3            0   \n\n   screen_resolution(pixel)  weights  type_laptop  \n0                         3     1.60            4  \n1                         3     1.91            3  \n2                         3     1.70            3  \n3                         3     2.80            3  \n4                         3     2.20            3  ",
      "text/html": "<div>\n<style scoped>\n    .dataframe tbody tr th:only-of-type {\n        vertical-align: middle;\n    }\n\n    .dataframe tbody tr th {\n        vertical-align: top;\n    }\n\n    .dataframe thead th {\n        text-align: right;\n    }\n</style>\n<table border=\"1\" class=\"dataframe\">\n  <thead>\n    <tr style=\"text-align: right;\">\n      <th></th>\n      <th>budget</th>\n      <th>cpu</th>\n      <th>gpu_merk</th>\n      <th>gpu</th>\n      <th>ram</th>\n      <th>memory_type</th>\n      <th>company</th>\n      <th>screen_type</th>\n      <th>screen_resolution(pixel)</th>\n      <th>weights</th>\n      <th>type_laptop</th>\n    </tr>\n  </thead>\n  <tbody>\n    <tr>\n      <th>0</th>\n      <td>0</td>\n      <td>2</td>\n      <td>1</td>\n      <td>13</td>\n      <td>8</td>\n      <td>3</td>\n      <td>0</td>\n      <td>2</td>\n      <td>3</td>\n      <td>1.60</td>\n      <td>4</td>\n    </tr>\n    <tr>\n      <th>1</th>\n      <td>0</td>\n      <td>1</td>\n      <td>1</td>\n      <td>2</td>\n      <td>4</td>\n      <td>3</td>\n      <td>4</td>\n      <td>0</td>\n      <td>3</td>\n      <td>1.91</td>\n      <td>3</td>\n    </tr>\n    <tr>\n      <th>2</th>\n      <td>0</td>\n      <td>1</td>\n      <td>1</td>\n      <td>2</td>\n      <td>8</td>\n      <td>3</td>\n      <td>5</td>\n      <td>2</td>\n      <td>3</td>\n      <td>1.70</td>\n      <td>3</td>\n    </tr>\n    <tr>\n      <th>3</th>\n      <td>1</td>\n      <td>3</td>\n      <td>0</td>\n      <td>7</td>\n      <td>16</td>\n      <td>4</td>\n      <td>3</td>\n      <td>2</td>\n      <td>3</td>\n      <td>2.80</td>\n      <td>3</td>\n    </tr>\n    <tr>\n      <th>4</th>\n      <td>0</td>\n      <td>1</td>\n      <td>0</td>\n      <td>10</td>\n      <td>4</td>\n      <td>3</td>\n      <td>3</td>\n      <td>0</td>\n      <td>3</td>\n      <td>2.20</td>\n      <td>3</td>\n    </tr>\n  </tbody>\n</table>\n</div>"
     },
     "execution_count": 27,
     "metadata": {},
     "output_type": "execute_result"
    }
   ],
   "source": [
    "data.head()"
   ],
   "metadata": {
    "collapsed": false,
    "pycharm": {
     "name": "#%%\n"
    }
   }
  },
  {
   "cell_type": "code",
   "execution_count": 29,
   "outputs": [],
   "source": [
    "from sklearn.model_selection import train_test_split\n",
    "\n",
    "X_train, X_test, y_train, y_test = train_test_split(data, target, test_size=0.1, random_state=20)"
   ],
   "metadata": {
    "collapsed": false,
    "pycharm": {
     "name": "#%%\n"
    }
   }
  },
  {
   "cell_type": "code",
   "execution_count": 30,
   "outputs": [
    {
     "data": {
      "text/plain": "KNeighborsClassifier(n_neighbors=3)"
     },
     "execution_count": 30,
     "metadata": {},
     "output_type": "execute_result"
    }
   ],
   "source": [
    "knn = KNeighborsClassifier(n_neighbors=3)\n",
    "knn.fit(X_train, y_train)"
   ],
   "metadata": {
    "collapsed": false,
    "pycharm": {
     "name": "#%%\n"
    }
   }
  },
  {
   "cell_type": "code",
   "execution_count": 32,
   "outputs": [
    {
     "name": "stderr",
     "output_type": "stream",
     "text": [
      "c:\\python39\\lib\\site-packages\\sklearn\\base.py:441: UserWarning: X does not have valid feature names, but KNeighborsClassifier was fitted with feature names\n",
      "  warnings.warn(\n"
     ]
    },
    {
     "data": {
      "text/plain": "0.9"
     },
     "execution_count": 32,
     "metadata": {},
     "output_type": "execute_result"
    }
   ],
   "source": [
    "predict = knn.predict(X_test)\n",
    "\n",
    "from sklearn.metrics import accuracy_score\n",
    "\n",
    "accuracy_score(y_test, predict)"
   ],
   "metadata": {
    "collapsed": false,
    "pycharm": {
     "name": "#%%\n"
    }
   }
  },
  {
   "cell_type": "code",
   "execution_count": 38,
   "outputs": [
    {
     "name": "stderr",
     "output_type": "stream",
     "text": [
      "c:\\python39\\lib\\site-packages\\sklearn\\base.py:441: UserWarning: X does not have valid feature names, but KNeighborsClassifier was fitted with feature names\n",
      "  warnings.warn(\n",
      "c:\\python39\\lib\\site-packages\\sklearn\\base.py:441: UserWarning: X does not have valid feature names, but KNeighborsClassifier was fitted with feature names\n",
      "  warnings.warn(\n",
      "c:\\python39\\lib\\site-packages\\sklearn\\base.py:441: UserWarning: X does not have valid feature names, but KNeighborsClassifier was fitted with feature names\n",
      "  warnings.warn(\n",
      "c:\\python39\\lib\\site-packages\\sklearn\\base.py:441: UserWarning: X does not have valid feature names, but KNeighborsClassifier was fitted with feature names\n",
      "  warnings.warn(\n",
      "c:\\python39\\lib\\site-packages\\sklearn\\base.py:441: UserWarning: X does not have valid feature names, but KNeighborsClassifier was fitted with feature names\n",
      "  warnings.warn(\n",
      "c:\\python39\\lib\\site-packages\\sklearn\\base.py:441: UserWarning: X does not have valid feature names, but KNeighborsClassifier was fitted with feature names\n",
      "  warnings.warn(\n",
      "c:\\python39\\lib\\site-packages\\sklearn\\base.py:441: UserWarning: X does not have valid feature names, but KNeighborsClassifier was fitted with feature names\n",
      "  warnings.warn(\n",
      "c:\\python39\\lib\\site-packages\\sklearn\\base.py:441: UserWarning: X does not have valid feature names, but KNeighborsClassifier was fitted with feature names\n",
      "  warnings.warn(\n",
      "c:\\python39\\lib\\site-packages\\sklearn\\base.py:441: UserWarning: X does not have valid feature names, but KNeighborsClassifier was fitted with feature names\n",
      "  warnings.warn(\n",
      "c:\\python39\\lib\\site-packages\\sklearn\\base.py:441: UserWarning: X does not have valid feature names, but KNeighborsClassifier was fitted with feature names\n",
      "  warnings.warn(\n"
     ]
    },
    {
     "data": {
      "text/plain": "0.96"
     },
     "execution_count": 38,
     "metadata": {},
     "output_type": "execute_result"
    }
   ],
   "source": [
    "from sklearn.model_selection import cross_val_score, KFold\n",
    "\n",
    "fold = KFold(n_splits=10)\n",
    "\n",
    "cross_val_score(knn,data, target, cv=fold, scoring='accuracy').mean()"
   ],
   "metadata": {
    "collapsed": false,
    "pycharm": {
     "name": "#%%\n"
    }
   }
  },
  {
   "cell_type": "code",
   "execution_count": 45,
   "outputs": [
    {
     "name": "stderr",
     "output_type": "stream",
     "text": [
      "ERROR: Could not find a version that satisfies the requirement sklearn==1.1 (from versions: 0.0)\n",
      "ERROR: No matching distribution found for sklearn==1.1\n",
      "WARNING: You are using pip version 21.2.4; however, version 21.3.1 is available.\n",
      "You should consider upgrading via the 'c:\\python39\\python.exe -m pip install --upgrade pip' command.\n"
     ]
    }
   ],
   "source": [
    "!pip install -U scikit-learn"
   ],
   "metadata": {
    "collapsed": false,
    "pycharm": {
     "name": "#%%\n"
    }
   }
  }
 ],
 "metadata": {
  "kernelspec": {
   "display_name": "Python 3",
   "language": "python",
   "name": "python3"
  },
  "language_info": {
   "codemirror_mode": {
    "name": "ipython",
    "version": 2
   },
   "file_extension": ".py",
   "mimetype": "text/x-python",
   "name": "python",
   "nbconvert_exporter": "python",
   "pygments_lexer": "ipython2",
   "version": "2.7.6"
  }
 },
 "nbformat": 4,
 "nbformat_minor": 0
}